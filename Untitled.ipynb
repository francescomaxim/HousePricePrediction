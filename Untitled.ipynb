{
 "cells": [
  {
   "cell_type": "code",
   "execution_count": 104,
   "id": "5f5b3a36-76cf-4fbc-8092-b83250998335",
   "metadata": {},
   "outputs": [],
   "source": [
    "import numpy as np\n",
    "import pandas as pd\n",
    "import matplotlib.pyplot as plt\n",
    "import copy"
   ]
  },
  {
   "cell_type": "markdown",
   "id": "0a265322-7835-412a-8079-74ab498aa58d",
   "metadata": {},
   "source": [
    "### Data preprocessing"
   ]
  },
  {
   "cell_type": "code",
   "execution_count": 64,
   "id": "b65ace4d-445a-495b-93d7-5b21dd82198d",
   "metadata": {},
   "outputs": [],
   "source": [
    "x_train = np.array([30, 50, 60, 80, 100])\n",
    "y_train = np.array([70000, 100000, 120000, 150000, 200000])"
   ]
  },
  {
   "cell_type": "code",
   "execution_count": 10,
   "id": "8dc600f7-3620-4840-9af9-3dab118b0de2",
   "metadata": {},
   "outputs": [
    {
     "data": {
      "text/plain": [
       "(array([ 30,  50,  60,  80, 100]),\n",
       " array([  70000,  100000,  120000,  150000, 2000000]))"
      ]
     },
     "execution_count": 10,
     "metadata": {},
     "output_type": "execute_result"
    }
   ],
   "source": [
    "x_train, y_train\n"
   ]
  },
  {
   "cell_type": "code",
   "execution_count": 14,
   "id": "21e45cf6-cb77-4d69-b8d5-6872a804183e",
   "metadata": {},
   "outputs": [
    {
     "name": "stdout",
     "output_type": "stream",
     "text": [
      "30 70000\n",
      "50 100000\n",
      "60 120000\n",
      "80 150000\n",
      "100 2000000\n"
     ]
    }
   ],
   "source": [
    "for i, j in zip(x_train, y_train):\n",
    "    print(i, j)\n",
    "    "
   ]
  },
  {
   "cell_type": "code",
   "execution_count": 24,
   "id": "c61877a1-a64d-4b3a-b12c-e9d39514a4c2",
   "metadata": {},
   "outputs": [
    {
     "data": {
      "text/plain": [
       "array([30, 50, 60, 80])"
      ]
     },
     "execution_count": 24,
     "metadata": {},
     "output_type": "execute_result"
    }
   ],
   "source": [
    "x_train[:-1]"
   ]
  },
  {
   "cell_type": "code",
   "execution_count": 36,
   "id": "712a939e-f77c-464a-8cc1-2418f9adb757",
   "metadata": {},
   "outputs": [
    {
     "data": {
      "text/plain": [
       "5"
      ]
     },
     "execution_count": 36,
     "metadata": {},
     "output_type": "execute_result"
    }
   ],
   "source": [
    "len(x_train)"
   ]
  },
  {
   "cell_type": "code",
   "execution_count": 56,
   "id": "9a89f3b1-c6d5-4744-a70e-ebfc38bf2015",
   "metadata": {},
   "outputs": [
    {
     "name": "stdout",
     "output_type": "stream",
     "text": [
      "30\n",
      "50\n",
      "60\n",
      "80\n",
      "100\n"
     ]
    }
   ],
   "source": [
    "for i in x_train:\n",
    "    print(i)"
   ]
  },
  {
   "cell_type": "code",
   "execution_count": 42,
   "id": "a3e24db0-72f8-4deb-b524-1c9b8d9d96cf",
   "metadata": {},
   "outputs": [
    {
     "data": {
      "text/plain": [
       "(5, 5)"
      ]
     },
     "execution_count": 42,
     "metadata": {},
     "output_type": "execute_result"
    }
   ],
   "source": [
    "len(x_train), len(y_train)"
   ]
  },
  {
   "cell_type": "code",
   "execution_count": 66,
   "id": "607e92e3-ef6b-4833-bce4-116ab637ea34",
   "metadata": {},
   "outputs": [
    {
     "data": {
      "image/png": "[encoded data removed]",
      "text/plain": [
       "<Figure size 640x480 with 1 Axes>"
      ]
     },
     "metadata": {},
     "output_type": "display_data"
    }
   ],
   "source": [
    "plt.scatter(x_train, y_train)\n",
    "plt.title(\"Train Data: Size vs Price\")\n",
    "plt.xlabel(\"Size\")\n",
    "plt.ylabel(\"Price\")\n",
    "plt.show()"
   ]
  },
  {
   "cell_type": "markdown",
   "id": "93cf4a41-91c2-495b-b39f-e49e4e9c8fe5",
   "metadata": {},
   "source": [
    "### Train"
   ]
  },
  {
   "cell_type": "code",
   "execution_count": 76,
   "id": "dc320903-7610-452c-a6d5-f8228dc2103b",
   "metadata": {},
   "outputs": [],
   "source": [
    "def compute_cost(x, y, w, b):\n",
    "    m = x.shape[0] # dc nu len? ... am aflat\n",
    "    cost = 0\n",
    "    for i in range(0, m):\n",
    "        f_wb = w * x[i] + b\n",
    "        cost = cost + (f_wb - y[i])**2\n",
    "    return (cost / (2 * m)) #total_cost"
   ]
  },
  {
   "cell_type": "code",
   "execution_count": 78,
   "id": "972e8730-9732-4652-a373-76b69ef51f49",
   "metadata": {},
   "outputs": [
    {
     "data": {
      "text/plain": [
       "9174090955.0"
      ]
     },
     "execution_count": 78,
     "metadata": {},
     "output_type": "execute_result"
    }
   ],
   "source": [
    "compute_cost(x_train, y_train, w = 0.5, b = 10)"
   ]
  },
  {
   "cell_type": "code",
   "execution_count": 84,
   "id": "66a506d8-c5ba-4d11-b7b4-1c8059947532",
   "metadata": {},
   "outputs": [],
   "source": [
    "def compute_gradient(x, y, w, b):\n",
    "    m = x.shape[0]\n",
    "    dj_dw = 0\n",
    "    dj_db = 0\n",
    "    for i in range(0, m):\n",
    "        f_wb = w * x[i] + b\n",
    "        dj_dw = dj_dw + (f_wb - y[i]) * x[i]\n",
    "        dj_db = dj_db + (f_wb - y[i])\n",
    "    dj_dw = dj_dw / m\n",
    "    dj_db = dj_db / m\n",
    "\n",
    "    return dj_dw, dj_db"
   ]
  },
  {
   "cell_type": "code",
   "execution_count": 86,
   "id": "a4fafb41-bed5-4883-86c0-1712791147ab",
   "metadata": {},
   "outputs": [
    {
     "data": {
      "text/plain": [
       "(-9213136.0, -127359.0)"
      ]
     },
     "execution_count": 86,
     "metadata": {},
     "output_type": "execute_result"
    }
   ],
   "source": [
    "compute_gradient(x_train, y_train, w = 10, b = 1)"
   ]
  },
  {
   "cell_type": "code",
   "execution_count": 90,
   "id": "70f04eac-ccad-498e-8666-39e2885eec7c",
   "metadata": {},
   "outputs": [],
   "source": [
    "def gradient_descent(x, y, w_in, b_in, alpha, num_inters, cost_function, gradient_function):\n",
    "    w = copy.deepcopy(w_in)\n",
    "    b = copy.deepcopy(b_in)\n",
    "    J_history = [] #cost function\n",
    "\n",
    "    for i in range(0, num_inters):\n",
    "        dj_dw, dj_db = gradient_function(x, y, w, b)\n",
    "        w = w - (alpha * dj_dw)\n",
    "        b = b - (alpha * dj_db)\n",
    "        J_history.append(cost_function(x, y, w, b))\n",
    "        print(f\"Iteration: {i} : Cost = {J_history[i]:.4} | dj_dw = {dj_dw:.4} | dj_db = {dj_db:.4} | w = {w:.4} | b = {b:.4}\")\n",
    "\n",
    "    return w, b, J_history\n",
    "    \n",
    "    "
   ]
  },
  {
   "cell_type": "code",
   "execution_count": 161,
   "id": "1adf1ff3-8f11-49c8-b154-5f166d063ddd",
   "metadata": {},
   "outputs": [
    {
     "name": "stdout",
     "output_type": "stream",
     "text": [
      "Iteration: 0 : Cost = 8.342e+09 | dj_dw = -9.26e+06 | dj_db = -1.28e+05 | w = 92.6 | b = 1.28\n",
      "Iteration: 1 : Cost = 7.581e+09 | dj_dw = -8.827e+06 | dj_db = -1.221e+05 | w = 180.9 | b = 2.501\n",
      "Iteration: 2 : Cost = 6.89e+09 | dj_dw = -8.413e+06 | dj_db = -1.164e+05 | w = 265.0 | b = 3.665\n",
      "Iteration: 3 : Cost = 6.262e+09 | dj_dw = -8.02e+06 | dj_db = -1.11e+05 | w = 345.2 | b = 4.775\n",
      "Iteration: 4 : Cost = 5.691e+09 | dj_dw = -7.644e+06 | dj_db = -1.059e+05 | w = 421.6 | b = 5.834\n",
      "Iteration: 5 : Cost = 5.172e+09 | dj_dw = -7.286e+06 | dj_db = -1.01e+05 | w = 494.5 | b = 6.844\n",
      "Iteration: 6 : Cost = 4.701e+09 | dj_dw = -6.945e+06 | dj_db = -9.635e+04 | w = 564.0 | b = 7.808\n",
      "Iteration: 7 : Cost = 4.273e+09 | dj_dw = -6.62e+06 | dj_db = -9.19e+04 | w = 630.2 | b = 8.727\n",
      "Iteration: 8 : Cost = 3.884e+09 | dj_dw = -6.31e+06 | dj_db = -8.766e+04 | w = 693.3 | b = 9.603\n",
      "Iteration: 9 : Cost = 3.531e+09 | dj_dw = -6.015e+06 | dj_db = -8.362e+04 | w = 753.4 | b = 10.44\n",
      "Iteration: 10 : Cost = 3.21e+09 | dj_dw = -5.733e+06 | dj_db = -7.977e+04 | w = 810.7 | b = 11.24\n",
      "Iteration: 11 : Cost = 2.918e+09 | dj_dw = -5.465e+06 | dj_db = -7.61e+04 | w = 865.4 | b = 12.0\n",
      "Iteration: 12 : Cost = 2.653e+09 | dj_dw = -5.209e+06 | dj_db = -7.26e+04 | w = 917.5 | b = 12.72\n",
      "Iteration: 13 : Cost = 2.412e+09 | dj_dw = -4.965e+06 | dj_db = -6.927e+04 | w = 967.1 | b = 13.42\n",
      "Iteration: 14 : Cost = 2.193e+09 | dj_dw = -4.733e+06 | dj_db = -6.609e+04 | w = 1.014e+03 | b = 14.08\n",
      "Iteration: 15 : Cost = 1.995e+09 | dj_dw = -4.511e+06 | dj_db = -6.306e+04 | w = 1.06e+03 | b = 14.71\n",
      "Iteration: 16 : Cost = 1.814e+09 | dj_dw = -4.3e+06 | dj_db = -6.017e+04 | w = 1.103e+03 | b = 15.31\n",
      "Iteration: 17 : Cost = 1.65e+09 | dj_dw = -4.099e+06 | dj_db = -5.742e+04 | w = 1.144e+03 | b = 15.88\n",
      "Iteration: 18 : Cost = 1.501e+09 | dj_dw = -3.907e+06 | dj_db = -5.48e+04 | w = 1.183e+03 | b = 16.43\n",
      "Iteration: 19 : Cost = 1.365e+09 | dj_dw = -3.724e+06 | dj_db = -5.229e+04 | w = 1.22e+03 | b = 16.96\n",
      "Iteration: 20 : Cost = 1.242e+09 | dj_dw = -3.55e+06 | dj_db = -4.991e+04 | w = 1.255e+03 | b = 17.45\n",
      "Iteration: 21 : Cost = 1.13e+09 | dj_dw = -3.384e+06 | dj_db = -4.764e+04 | w = 1.289e+03 | b = 17.93\n",
      "Iteration: 22 : Cost = 1.029e+09 | dj_dw = -3.225e+06 | dj_db = -4.547e+04 | w = 1.321e+03 | b = 18.39\n",
      "Iteration: 23 : Cost = 9.364e+08 | dj_dw = -3.074e+06 | dj_db = -4.341e+04 | w = 1.352e+03 | b = 18.82\n",
      "Iteration: 24 : Cost = 8.525e+08 | dj_dw = -2.93e+06 | dj_db = -4.144e+04 | w = 1.382e+03 | b = 19.23\n",
      "Iteration: 25 : Cost = 7.763e+08 | dj_dw = -2.793e+06 | dj_db = -3.956e+04 | w = 1.409e+03 | b = 19.63\n",
      "Iteration: 26 : Cost = 7.07e+08 | dj_dw = -2.663e+06 | dj_db = -3.778e+04 | w = 1.436e+03 | b = 20.01\n",
      "Iteration: 27 : Cost = 6.441e+08 | dj_dw = -2.538e+06 | dj_db = -3.607e+04 | w = 1.461e+03 | b = 20.37\n",
      "Iteration: 28 : Cost = 5.869e+08 | dj_dw = -2.419e+06 | dj_db = -3.445e+04 | w = 1.486e+03 | b = 20.71\n",
      "Iteration: 29 : Cost = 5.35e+08 | dj_dw = -2.306e+06 | dj_db = -3.29e+04 | w = 1.509e+03 | b = 21.04\n",
      "Iteration: 30 : Cost = 4.878e+08 | dj_dw = -2.198e+06 | dj_db = -3.142e+04 | w = 1.531e+03 | b = 21.36\n",
      "Iteration: 31 : Cost = 4.45e+08 | dj_dw = -2.095e+06 | dj_db = -3.001e+04 | w = 1.552e+03 | b = 21.66\n",
      "Iteration: 32 : Cost = 4.06e+08 | dj_dw = -1.997e+06 | dj_db = -2.867e+04 | w = 1.572e+03 | b = 21.94\n",
      "Iteration: 33 : Cost = 3.706e+08 | dj_dw = -1.903e+06 | dj_db = -2.74e+04 | w = 1.591e+03 | b = 22.22\n",
      "Iteration: 34 : Cost = 3.385e+08 | dj_dw = -1.814e+06 | dj_db = -2.618e+04 | w = 1.609e+03 | b = 22.48\n",
      "Iteration: 35 : Cost = 3.092e+08 | dj_dw = -1.729e+06 | dj_db = -2.502e+04 | w = 1.626e+03 | b = 22.73\n",
      "Iteration: 36 : Cost = 2.827e+08 | dj_dw = -1.648e+06 | dj_db = -2.391e+04 | w = 1.643e+03 | b = 22.97\n",
      "Iteration: 37 : Cost = 2.586e+08 | dj_dw = -1.571e+06 | dj_db = -2.285e+04 | w = 1.658e+03 | b = 23.2\n",
      "Iteration: 38 : Cost = 2.367e+08 | dj_dw = -1.498e+06 | dj_db = -2.185e+04 | w = 1.673e+03 | b = 23.41\n",
      "Iteration: 39 : Cost = 2.168e+08 | dj_dw = -1.428e+06 | dj_db = -2.089e+04 | w = 1.688e+03 | b = 23.62\n",
      "Iteration: 40 : Cost = 1.987e+08 | dj_dw = -1.361e+06 | dj_db = -1.997e+04 | w = 1.701e+03 | b = 23.82\n",
      "Iteration: 41 : Cost = 1.822e+08 | dj_dw = -1.297e+06 | dj_db = -1.91e+04 | w = 1.714e+03 | b = 24.01\n",
      "Iteration: 42 : Cost = 1.673e+08 | dj_dw = -1.236e+06 | dj_db = -1.827e+04 | w = 1.726e+03 | b = 24.2\n",
      "Iteration: 43 : Cost = 1.537e+08 | dj_dw = -1.179e+06 | dj_db = -1.748e+04 | w = 1.738e+03 | b = 24.37\n",
      "Iteration: 44 : Cost = 1.414e+08 | dj_dw = -1.123e+06 | dj_db = -1.673e+04 | w = 1.749e+03 | b = 24.54\n",
      "Iteration: 45 : Cost = 1.302e+08 | dj_dw = -1.071e+06 | dj_db = -1.601e+04 | w = 1.76e+03 | b = 24.7\n",
      "Iteration: 46 : Cost = 1.2e+08 | dj_dw = -1.021e+06 | dj_db = -1.532e+04 | w = 1.77e+03 | b = 24.85\n",
      "Iteration: 47 : Cost = 1.108e+08 | dj_dw = -9.729e+05 | dj_db = -1.467e+04 | w = 1.78e+03 | b = 25.0\n",
      "Iteration: 48 : Cost = 1.024e+08 | dj_dw = -9.274e+05 | dj_db = -1.405e+04 | w = 1.789e+03 | b = 25.14\n",
      "Iteration: 49 : Cost = 9.474e+07 | dj_dw = -8.839e+05 | dj_db = -1.345e+04 | w = 1.798e+03 | b = 25.27\n",
      "Iteration: 50 : Cost = 8.781e+07 | dj_dw = -8.426e+05 | dj_db = -1.289e+04 | w = 1.807e+03 | b = 25.4\n",
      "Iteration: 51 : Cost = 8.151e+07 | dj_dw = -8.031e+05 | dj_db = -1.235e+04 | w = 1.815e+03 | b = 25.53\n",
      "Iteration: 52 : Cost = 7.578e+07 | dj_dw = -7.655e+05 | dj_db = -1.183e+04 | w = 1.822e+03 | b = 25.64\n",
      "Iteration: 53 : Cost = 7.058e+07 | dj_dw = -7.297e+05 | dj_db = -1.134e+04 | w = 1.83e+03 | b = 25.76\n",
      "Iteration: 54 : Cost = 6.586e+07 | dj_dw = -6.955e+05 | dj_db = -1.088e+04 | w = 1.837e+03 | b = 25.87\n",
      "Iteration: 55 : Cost = 6.156e+07 | dj_dw = -6.63e+05 | dj_db = -1.043e+04 | w = 1.843e+03 | b = 25.97\n",
      "Iteration: 56 : Cost = 5.766e+07 | dj_dw = -6.319e+05 | dj_db = -1.001e+04 | w = 1.85e+03 | b = 26.07\n",
      "Iteration: 57 : Cost = 5.412e+07 | dj_dw = -6.024e+05 | dj_db = -9.602e+03 | w = 1.856e+03 | b = 26.17\n",
      "Iteration: 58 : Cost = 5.09e+07 | dj_dw = -5.742e+05 | dj_db = -9.216e+03 | w = 1.861e+03 | b = 26.26\n",
      "Iteration: 59 : Cost = 4.797e+07 | dj_dw = -5.473e+05 | dj_db = -8.849e+03 | w = 1.867e+03 | b = 26.35\n",
      "Iteration: 60 : Cost = 4.531e+07 | dj_dw = -5.217e+05 | dj_db = -8.498e+03 | w = 1.872e+03 | b = 26.43\n",
      "Iteration: 61 : Cost = 4.29e+07 | dj_dw = -4.973e+05 | dj_db = -8.164e+03 | w = 1.877e+03 | b = 26.51\n",
      "Iteration: 62 : Cost = 4.07e+07 | dj_dw = -4.74e+05 | dj_db = -7.846e+03 | w = 1.882e+03 | b = 26.59\n",
      "Iteration: 63 : Cost = 3.871e+07 | dj_dw = -4.518e+05 | dj_db = -7.543e+03 | w = 1.886e+03 | b = 26.67\n",
      "Iteration: 64 : Cost = 3.69e+07 | dj_dw = -4.306e+05 | dj_db = -7.253e+03 | w = 1.891e+03 | b = 26.74\n",
      "Iteration: 65 : Cost = 3.525e+07 | dj_dw = -4.105e+05 | dj_db = -6.978e+03 | w = 1.895e+03 | b = 26.81\n",
      "Iteration: 66 : Cost = 3.376e+07 | dj_dw = -3.913e+05 | dj_db = -6.715e+03 | w = 1.899e+03 | b = 26.88\n",
      "Iteration: 67 : Cost = 3.24e+07 | dj_dw = -3.73e+05 | dj_db = -6.464e+03 | w = 1.902e+03 | b = 26.94\n",
      "Iteration: 68 : Cost = 3.116e+07 | dj_dw = -3.555e+05 | dj_db = -6.226e+03 | w = 1.906e+03 | b = 27.0\n",
      "Iteration: 69 : Cost = 3.004e+07 | dj_dw = -3.389e+05 | dj_db = -5.998e+03 | w = 1.909e+03 | b = 27.06\n",
      "Iteration: 70 : Cost = 2.902e+07 | dj_dw = -3.23e+05 | dj_db = -5.781e+03 | w = 1.912e+03 | b = 27.12\n",
      "Iteration: 71 : Cost = 2.81e+07 | dj_dw = -3.079e+05 | dj_db = -5.574e+03 | w = 1.916e+03 | b = 27.18\n",
      "Iteration: 72 : Cost = 2.725e+07 | dj_dw = -2.935e+05 | dj_db = -5.377e+03 | w = 1.918e+03 | b = 27.23\n",
      "Iteration: 73 : Cost = 2.649e+07 | dj_dw = -2.797e+05 | dj_db = -5.189e+03 | w = 1.921e+03 | b = 27.28\n",
      "Iteration: 74 : Cost = 2.579e+07 | dj_dw = -2.666e+05 | dj_db = -5.01e+03 | w = 1.924e+03 | b = 27.33\n",
      "Iteration: 75 : Cost = 2.516e+07 | dj_dw = -2.541e+05 | dj_db = -4.84e+03 | w = 1.926e+03 | b = 27.38\n",
      "Iteration: 76 : Cost = 2.459e+07 | dj_dw = -2.422e+05 | dj_db = -4.677e+03 | w = 1.929e+03 | b = 27.43\n",
      "Iteration: 77 : Cost = 2.407e+07 | dj_dw = -2.309e+05 | dj_db = -4.522e+03 | w = 1.931e+03 | b = 27.47\n",
      "Iteration: 78 : Cost = 2.36e+07 | dj_dw = -2.201e+05 | dj_db = -4.374e+03 | w = 1.933e+03 | b = 27.52\n",
      "Iteration: 79 : Cost = 2.317e+07 | dj_dw = -2.098e+05 | dj_db = -4.233e+03 | w = 1.936e+03 | b = 27.56\n",
      "Iteration: 80 : Cost = 2.278e+07 | dj_dw = -2e+05 | dj_db = -4.099e+03 | w = 1.938e+03 | b = 27.6\n",
      "Iteration: 81 : Cost = 2.242e+07 | dj_dw = -1.906e+05 | dj_db = -3.971e+03 | w = 1.939e+03 | b = 27.64\n",
      "Iteration: 82 : Cost = 2.21e+07 | dj_dw = -1.817e+05 | dj_db = -3.849e+03 | w = 1.941e+03 | b = 27.68\n",
      "Iteration: 83 : Cost = 2.181e+07 | dj_dw = -1.732e+05 | dj_db = -3.732e+03 | w = 1.943e+03 | b = 27.72\n",
      "Iteration: 84 : Cost = 2.154e+07 | dj_dw = -1.651e+05 | dj_db = -3.622e+03 | w = 1.945e+03 | b = 27.75\n",
      "Iteration: 85 : Cost = 2.13e+07 | dj_dw = -1.573e+05 | dj_db = -3.516e+03 | w = 1.946e+03 | b = 27.79\n",
      "Iteration: 86 : Cost = 2.108e+07 | dj_dw = -1.5e+05 | dj_db = -3.415e+03 | w = 1.948e+03 | b = 27.82\n",
      "Iteration: 87 : Cost = 2.088e+07 | dj_dw = -1.43e+05 | dj_db = -3.319e+03 | w = 1.949e+03 | b = 27.86\n",
      "Iteration: 88 : Cost = 2.07e+07 | dj_dw = -1.363e+05 | dj_db = -3.228e+03 | w = 1.95e+03 | b = 27.89\n",
      "Iteration: 89 : Cost = 2.053e+07 | dj_dw = -1.299e+05 | dj_db = -3.14e+03 | w = 1.952e+03 | b = 27.92\n",
      "Iteration: 90 : Cost = 2.038e+07 | dj_dw = -1.238e+05 | dj_db = -3.057e+03 | w = 1.953e+03 | b = 27.95\n",
      "Iteration: 91 : Cost = 2.025e+07 | dj_dw = -1.18e+05 | dj_db = -2.978e+03 | w = 1.954e+03 | b = 27.98\n",
      "Iteration: 92 : Cost = 2.012e+07 | dj_dw = -1.125e+05 | dj_db = -2.902e+03 | w = 1.955e+03 | b = 28.01\n",
      "Iteration: 93 : Cost = 2.001e+07 | dj_dw = -1.072e+05 | dj_db = -2.83e+03 | w = 1.956e+03 | b = 28.04\n",
      "Iteration: 94 : Cost = 1.991e+07 | dj_dw = -1.022e+05 | dj_db = -2.762e+03 | w = 1.957e+03 | b = 28.06\n",
      "Iteration: 95 : Cost = 1.981e+07 | dj_dw = -9.742e+04 | dj_db = -2.696e+03 | w = 1.958e+03 | b = 28.09\n",
      "Iteration: 96 : Cost = 1.973e+07 | dj_dw = -9.286e+04 | dj_db = -2.634e+03 | w = 1.959e+03 | b = 28.12\n",
      "Iteration: 97 : Cost = 1.965e+07 | dj_dw = -8.851e+04 | dj_db = -2.574e+03 | w = 1.96e+03 | b = 28.14\n",
      "Iteration: 98 : Cost = 1.958e+07 | dj_dw = -8.436e+04 | dj_db = -2.518e+03 | w = 1.961e+03 | b = 28.17\n",
      "Iteration: 99 : Cost = 1.952e+07 | dj_dw = -8.041e+04 | dj_db = -2.464e+03 | w = 1.962e+03 | b = 28.19\n",
      "Iteration: 100 : Cost = 1.946e+07 | dj_dw = -7.665e+04 | dj_db = -2.412e+03 | w = 1.963e+03 | b = 28.22\n",
      "Iteration: 101 : Cost = 1.941e+07 | dj_dw = -7.306e+04 | dj_db = -2.363e+03 | w = 1.963e+03 | b = 28.24\n",
      "Iteration: 102 : Cost = 1.936e+07 | dj_dw = -6.964e+04 | dj_db = -2.316e+03 | w = 1.964e+03 | b = 28.26\n",
      "Iteration: 103 : Cost = 1.932e+07 | dj_dw = -6.638e+04 | dj_db = -2.272e+03 | w = 1.965e+03 | b = 28.29\n",
      "Iteration: 104 : Cost = 1.928e+07 | dj_dw = -6.327e+04 | dj_db = -2.229e+03 | w = 1.965e+03 | b = 28.31\n",
      "Iteration: 105 : Cost = 1.925e+07 | dj_dw = -6.031e+04 | dj_db = -2.189e+03 | w = 1.966e+03 | b = 28.33\n",
      "Iteration: 106 : Cost = 1.921e+07 | dj_dw = -5.749e+04 | dj_db = -2.15e+03 | w = 1.967e+03 | b = 28.35\n",
      "Iteration: 107 : Cost = 1.918e+07 | dj_dw = -5.479e+04 | dj_db = -2.113e+03 | w = 1.967e+03 | b = 28.37\n",
      "Iteration: 108 : Cost = 1.916e+07 | dj_dw = -5.223e+04 | dj_db = -2.078e+03 | w = 1.968e+03 | b = 28.39\n",
      "Iteration: 109 : Cost = 1.913e+07 | dj_dw = -4.978e+04 | dj_db = -2.045e+03 | w = 1.968e+03 | b = 28.42\n",
      "Iteration: 110 : Cost = 1.911e+07 | dj_dw = -4.745e+04 | dj_db = -2.013e+03 | w = 1.969e+03 | b = 28.44\n",
      "Iteration: 111 : Cost = 1.909e+07 | dj_dw = -4.523e+04 | dj_db = -1.982e+03 | w = 1.969e+03 | b = 28.46\n",
      "Iteration: 112 : Cost = 1.907e+07 | dj_dw = -4.311e+04 | dj_db = -1.954e+03 | w = 1.969e+03 | b = 28.47\n",
      "Iteration: 113 : Cost = 1.906e+07 | dj_dw = -4.109e+04 | dj_db = -1.926e+03 | w = 1.97e+03 | b = 28.49\n",
      "Iteration: 114 : Cost = 1.904e+07 | dj_dw = -3.917e+04 | dj_db = -1.9e+03 | w = 1.97e+03 | b = 28.51\n",
      "Iteration: 115 : Cost = 1.903e+07 | dj_dw = -3.733e+04 | dj_db = -1.875e+03 | w = 1.971e+03 | b = 28.53\n",
      "Iteration: 116 : Cost = 1.902e+07 | dj_dw = -3.559e+04 | dj_db = -1.851e+03 | w = 1.971e+03 | b = 28.55\n",
      "Iteration: 117 : Cost = 1.9e+07 | dj_dw = -3.392e+04 | dj_db = -1.828e+03 | w = 1.971e+03 | b = 28.57\n",
      "Iteration: 118 : Cost = 1.899e+07 | dj_dw = -3.233e+04 | dj_db = -1.806e+03 | w = 1.972e+03 | b = 28.59\n",
      "Iteration: 119 : Cost = 1.898e+07 | dj_dw = -3.082e+04 | dj_db = -1.785e+03 | w = 1.972e+03 | b = 28.6\n",
      "Iteration: 120 : Cost = 1.898e+07 | dj_dw = -2.937e+04 | dj_db = -1.766e+03 | w = 1.972e+03 | b = 28.62\n",
      "Iteration: 121 : Cost = 1.897e+07 | dj_dw = -2.8e+04 | dj_db = -1.747e+03 | w = 1.973e+03 | b = 28.64\n",
      "Iteration: 122 : Cost = 1.896e+07 | dj_dw = -2.669e+04 | dj_db = -1.729e+03 | w = 1.973e+03 | b = 28.66\n",
      "Iteration: 123 : Cost = 1.896e+07 | dj_dw = -2.544e+04 | dj_db = -1.712e+03 | w = 1.973e+03 | b = 28.67\n",
      "Iteration: 124 : Cost = 1.895e+07 | dj_dw = -2.424e+04 | dj_db = -1.695e+03 | w = 1.973e+03 | b = 28.69\n",
      "Iteration: 125 : Cost = 1.894e+07 | dj_dw = -2.311e+04 | dj_db = -1.68e+03 | w = 1.974e+03 | b = 28.71\n",
      "Iteration: 126 : Cost = 1.894e+07 | dj_dw = -2.203e+04 | dj_db = -1.665e+03 | w = 1.974e+03 | b = 28.72\n",
      "Iteration: 127 : Cost = 1.894e+07 | dj_dw = -2.099e+04 | dj_db = -1.651e+03 | w = 1.974e+03 | b = 28.74\n",
      "Iteration: 128 : Cost = 1.893e+07 | dj_dw = -2.001e+04 | dj_db = -1.638e+03 | w = 1.974e+03 | b = 28.76\n",
      "Iteration: 129 : Cost = 1.893e+07 | dj_dw = -1.907e+04 | dj_db = -1.625e+03 | w = 1.974e+03 | b = 28.77\n",
      "Iteration: 130 : Cost = 1.892e+07 | dj_dw = -1.818e+04 | dj_db = -1.613e+03 | w = 1.975e+03 | b = 28.79\n",
      "Iteration: 131 : Cost = 1.892e+07 | dj_dw = -1.733e+04 | dj_db = -1.601e+03 | w = 1.975e+03 | b = 28.81\n",
      "Iteration: 132 : Cost = 1.892e+07 | dj_dw = -1.652e+04 | dj_db = -1.59e+03 | w = 1.975e+03 | b = 28.82\n",
      "Iteration: 133 : Cost = 1.892e+07 | dj_dw = -1.574e+04 | dj_db = -1.579e+03 | w = 1.975e+03 | b = 28.84\n",
      "Iteration: 134 : Cost = 1.891e+07 | dj_dw = -1.5e+04 | dj_db = -1.569e+03 | w = 1.975e+03 | b = 28.85\n",
      "Iteration: 135 : Cost = 1.891e+07 | dj_dw = -1.43e+04 | dj_db = -1.559e+03 | w = 1.975e+03 | b = 28.87\n",
      "Iteration: 136 : Cost = 1.891e+07 | dj_dw = -1.363e+04 | dj_db = -1.55e+03 | w = 1.975e+03 | b = 28.88\n",
      "Iteration: 137 : Cost = 1.891e+07 | dj_dw = -1.299e+04 | dj_db = -1.542e+03 | w = 1.976e+03 | b = 28.9\n",
      "Iteration: 138 : Cost = 1.891e+07 | dj_dw = -1.238e+04 | dj_db = -1.533e+03 | w = 1.976e+03 | b = 28.92\n",
      "Iteration: 139 : Cost = 1.891e+07 | dj_dw = -1.18e+04 | dj_db = -1.525e+03 | w = 1.976e+03 | b = 28.93\n",
      "Iteration: 140 : Cost = 1.89e+07 | dj_dw = -1.125e+04 | dj_db = -1.518e+03 | w = 1.976e+03 | b = 28.95\n",
      "Iteration: 141 : Cost = 1.89e+07 | dj_dw = -1.072e+04 | dj_db = -1.511e+03 | w = 1.976e+03 | b = 28.96\n",
      "Iteration: 142 : Cost = 1.89e+07 | dj_dw = -1.022e+04 | dj_db = -1.504e+03 | w = 1.976e+03 | b = 28.98\n",
      "Iteration: 143 : Cost = 1.89e+07 | dj_dw = -9.739e+03 | dj_db = -1.497e+03 | w = 1.976e+03 | b = 28.99\n",
      "Iteration: 144 : Cost = 1.89e+07 | dj_dw = -9.283e+03 | dj_db = -1.491e+03 | w = 1.976e+03 | b = 29.01\n",
      "Iteration: 145 : Cost = 1.89e+07 | dj_dw = -8.847e+03 | dj_db = -1.485e+03 | w = 1.976e+03 | b = 29.02\n",
      "Iteration: 146 : Cost = 1.89e+07 | dj_dw = -8.432e+03 | dj_db = -1.479e+03 | w = 1.977e+03 | b = 29.04\n",
      "Iteration: 147 : Cost = 1.89e+07 | dj_dw = -8.037e+03 | dj_db = -1.474e+03 | w = 1.977e+03 | b = 29.05\n",
      "Iteration: 148 : Cost = 1.89e+07 | dj_dw = -7.66e+03 | dj_db = -1.469e+03 | w = 1.977e+03 | b = 29.06\n",
      "Iteration: 149 : Cost = 1.89e+07 | dj_dw = -7.3e+03 | dj_db = -1.464e+03 | w = 1.977e+03 | b = 29.08\n",
      "Iteration: 150 : Cost = 1.89e+07 | dj_dw = -6.958e+03 | dj_db = -1.459e+03 | w = 1.977e+03 | b = 29.09\n",
      "Iteration: 151 : Cost = 1.89e+07 | dj_dw = -6.631e+03 | dj_db = -1.455e+03 | w = 1.977e+03 | b = 29.11\n",
      "Iteration: 152 : Cost = 1.89e+07 | dj_dw = -6.32e+03 | dj_db = -1.45e+03 | w = 1.977e+03 | b = 29.12\n",
      "Iteration: 153 : Cost = 1.89e+07 | dj_dw = -6.023e+03 | dj_db = -1.446e+03 | w = 1.977e+03 | b = 29.14\n",
      "Iteration: 154 : Cost = 1.89e+07 | dj_dw = -5.74e+03 | dj_db = -1.442e+03 | w = 1.977e+03 | b = 29.15\n",
      "Iteration: 155 : Cost = 1.889e+07 | dj_dw = -5.471e+03 | dj_db = -1.439e+03 | w = 1.977e+03 | b = 29.17\n",
      "Iteration: 156 : Cost = 1.889e+07 | dj_dw = -5.214e+03 | dj_db = -1.435e+03 | w = 1.977e+03 | b = 29.18\n",
      "Iteration: 157 : Cost = 1.889e+07 | dj_dw = -4.969e+03 | dj_db = -1.432e+03 | w = 1.977e+03 | b = 29.19\n",
      "Iteration: 158 : Cost = 1.889e+07 | dj_dw = -4.735e+03 | dj_db = -1.429e+03 | w = 1.977e+03 | b = 29.21\n",
      "Iteration: 159 : Cost = 1.889e+07 | dj_dw = -4.513e+03 | dj_db = -1.426e+03 | w = 1.977e+03 | b = 29.22\n",
      "Iteration: 160 : Cost = 1.889e+07 | dj_dw = -4.301e+03 | dj_db = -1.423e+03 | w = 1.977e+03 | b = 29.24\n",
      "Iteration: 161 : Cost = 1.889e+07 | dj_dw = -4.099e+03 | dj_db = -1.42e+03 | w = 1.977e+03 | b = 29.25\n",
      "Iteration: 162 : Cost = 1.889e+07 | dj_dw = -3.906e+03 | dj_db = -1.417e+03 | w = 1.977e+03 | b = 29.27\n",
      "Iteration: 163 : Cost = 1.889e+07 | dj_dw = -3.722e+03 | dj_db = -1.415e+03 | w = 1.977e+03 | b = 29.28\n",
      "Iteration: 164 : Cost = 1.889e+07 | dj_dw = -3.547e+03 | dj_db = -1.412e+03 | w = 1.978e+03 | b = 29.29\n",
      "Iteration: 165 : Cost = 1.889e+07 | dj_dw = -3.38e+03 | dj_db = -1.41e+03 | w = 1.978e+03 | b = 29.31\n",
      "Iteration: 166 : Cost = 1.889e+07 | dj_dw = -3.221e+03 | dj_db = -1.408e+03 | w = 1.978e+03 | b = 29.32\n",
      "Iteration: 167 : Cost = 1.889e+07 | dj_dw = -3.069e+03 | dj_db = -1.406e+03 | w = 1.978e+03 | b = 29.34\n",
      "Iteration: 168 : Cost = 1.889e+07 | dj_dw = -2.925e+03 | dj_db = -1.404e+03 | w = 1.978e+03 | b = 29.35\n",
      "Iteration: 169 : Cost = 1.889e+07 | dj_dw = -2.787e+03 | dj_db = -1.402e+03 | w = 1.978e+03 | b = 29.36\n",
      "Iteration: 170 : Cost = 1.889e+07 | dj_dw = -2.656e+03 | dj_db = -1.4e+03 | w = 1.978e+03 | b = 29.38\n",
      "Iteration: 171 : Cost = 1.889e+07 | dj_dw = -2.531e+03 | dj_db = -1.398e+03 | w = 1.978e+03 | b = 29.39\n",
      "Iteration: 172 : Cost = 1.889e+07 | dj_dw = -2.411e+03 | dj_db = -1.397e+03 | w = 1.978e+03 | b = 29.41\n",
      "Iteration: 173 : Cost = 1.889e+07 | dj_dw = -2.297e+03 | dj_db = -1.395e+03 | w = 1.978e+03 | b = 29.42\n",
      "Iteration: 174 : Cost = 1.889e+07 | dj_dw = -2.189e+03 | dj_db = -1.394e+03 | w = 1.978e+03 | b = 29.43\n",
      "Iteration: 175 : Cost = 1.889e+07 | dj_dw = -2.086e+03 | dj_db = -1.392e+03 | w = 1.978e+03 | b = 29.45\n",
      "Iteration: 176 : Cost = 1.889e+07 | dj_dw = -1.987e+03 | dj_db = -1.391e+03 | w = 1.978e+03 | b = 29.46\n",
      "Iteration: 177 : Cost = 1.889e+07 | dj_dw = -1.893e+03 | dj_db = -1.39e+03 | w = 1.978e+03 | b = 29.48\n",
      "Iteration: 178 : Cost = 1.889e+07 | dj_dw = -1.804e+03 | dj_db = -1.389e+03 | w = 1.978e+03 | b = 29.49\n",
      "Iteration: 179 : Cost = 1.889e+07 | dj_dw = -1.719e+03 | dj_db = -1.387e+03 | w = 1.978e+03 | b = 29.5\n",
      "Iteration: 180 : Cost = 1.889e+07 | dj_dw = -1.637e+03 | dj_db = -1.386e+03 | w = 1.978e+03 | b = 29.52\n",
      "Iteration: 181 : Cost = 1.889e+07 | dj_dw = -1.56e+03 | dj_db = -1.385e+03 | w = 1.978e+03 | b = 29.53\n",
      "Iteration: 182 : Cost = 1.889e+07 | dj_dw = -1.486e+03 | dj_db = -1.384e+03 | w = 1.978e+03 | b = 29.55\n",
      "Iteration: 183 : Cost = 1.889e+07 | dj_dw = -1.415e+03 | dj_db = -1.383e+03 | w = 1.978e+03 | b = 29.56\n",
      "Iteration: 184 : Cost = 1.889e+07 | dj_dw = -1.348e+03 | dj_db = -1.382e+03 | w = 1.978e+03 | b = 29.57\n",
      "Iteration: 185 : Cost = 1.889e+07 | dj_dw = -1.284e+03 | dj_db = -1.381e+03 | w = 1.978e+03 | b = 29.59\n",
      "Iteration: 186 : Cost = 1.889e+07 | dj_dw = -1.223e+03 | dj_db = -1.381e+03 | w = 1.978e+03 | b = 29.6\n",
      "Iteration: 187 : Cost = 1.889e+07 | dj_dw = -1.165e+03 | dj_db = -1.38e+03 | w = 1.978e+03 | b = 29.61\n",
      "Iteration: 188 : Cost = 1.889e+07 | dj_dw = -1.11e+03 | dj_db = -1.379e+03 | w = 1.978e+03 | b = 29.63\n",
      "Iteration: 189 : Cost = 1.889e+07 | dj_dw = -1.057e+03 | dj_db = -1.378e+03 | w = 1.978e+03 | b = 29.64\n",
      "Iteration: 190 : Cost = 1.889e+07 | dj_dw = -1.007e+03 | dj_db = -1.378e+03 | w = 1.978e+03 | b = 29.66\n",
      "Iteration: 191 : Cost = 1.889e+07 | dj_dw = -958.6 | dj_db = -1.377e+03 | w = 1.978e+03 | b = 29.67\n",
      "Iteration: 192 : Cost = 1.889e+07 | dj_dw = -912.8 | dj_db = -1.376e+03 | w = 1.978e+03 | b = 29.68\n",
      "Iteration: 193 : Cost = 1.889e+07 | dj_dw = -869.2 | dj_db = -1.376e+03 | w = 1.978e+03 | b = 29.7\n",
      "Iteration: 194 : Cost = 1.889e+07 | dj_dw = -827.7 | dj_db = -1.375e+03 | w = 1.978e+03 | b = 29.71\n",
      "Iteration: 195 : Cost = 1.889e+07 | dj_dw = -788.1 | dj_db = -1.375e+03 | w = 1.978e+03 | b = 29.72\n",
      "Iteration: 196 : Cost = 1.889e+07 | dj_dw = -750.3 | dj_db = -1.374e+03 | w = 1.978e+03 | b = 29.74\n",
      "Iteration: 197 : Cost = 1.889e+07 | dj_dw = -714.3 | dj_db = -1.374e+03 | w = 1.978e+03 | b = 29.75\n",
      "Iteration: 198 : Cost = 1.889e+07 | dj_dw = -680.0 | dj_db = -1.373e+03 | w = 1.978e+03 | b = 29.77\n",
      "Iteration: 199 : Cost = 1.889e+07 | dj_dw = -647.3 | dj_db = -1.373e+03 | w = 1.978e+03 | b = 29.78\n",
      "w, n by gradient descent (1.978e+03, 29.78)\n"
     ]
    }
   ],
   "source": [
    "w_init = 0\n",
    "b_init = 0\n",
    "iterations = 200\n",
    "alpha = 1.0e-5\n",
    "\n",
    "w_final, b_final, J_history = gradient_descent(x = x_train, y = y_train, alpha = alpha, w_in = w_init, b_in = b_init, cost_function = compute_cost, gradient_function = compute_gradient, num_inters = iterations)\n",
    "print(f\"w, n by gradient descent ({w_final:.4}, {b_final:.4})\")"
   ]
  },
  {
   "cell_type": "markdown",
   "id": "34c6094d-2542-459b-80ba-8b7b4b6f1412",
   "metadata": {},
   "source": [
    "### Metrics"
   ]
  },
  {
   "cell_type": "code",
   "execution_count": 163,
   "id": "deae2f16-72bd-4f00-898e-31ea62ac9d75",
   "metadata": {},
   "outputs": [
    {
     "data": {
      "text/plain": [
       "[8342432685.0112,\n",
       " 7581441170.749006,\n",
       " 6890024403.946134,\n",
       " 6261821412.749877,\n",
       " 5691052786.353579,\n",
       " 5172467504.93738,\n",
       " 4701294630.758492,\n",
       " 4273199415.9533815,\n",
       " 3884243423.247557,\n",
       " 3530848292.687131,\n",
       " 3209762821.0493116,\n",
       " 2918033051.065374,\n",
       " 2652975095.279662,\n",
       " 2412150444.526554,\n",
       " 2193343533.8656178,\n",
       " 1994541359.58357,\n",
       " 1813914959.7412963,\n",
       " 1649802587.888621,\n",
       " 1500694425.1465354,\n",
       " 1365218690.009396,\n",
       " 1242129018.0785477,\n",
       " 1130292995.622026,\n",
       " 1028681741.4701507,\n",
       " 936360441.4013672,\n",
       " 852479747.935546,\n",
       " 776267966.4136099,\n",
       " 707023955.4761293,\n",
       " 644110676.6259172,\n",
       " 586949333.5311954,\n",
       " 535014047.1514349,\n",
       " 487827017.69751406,\n",
       " 444954128.91666377,\n",
       " 406000954.2620134,\n",
       " 370609128.2038616,\n",
       " 338453049.2990557,\n",
       " 309236884.68702173,\n",
       " 282691848.45407206,\n",
       " 258573728.82719272,\n",
       " 236660641.4477117,\n",
       " 216750988.05516902,\n",
       " 198661601.80146632,\n",
       " 182226062.13234946,\n",
       " 167293163.7332878,\n",
       " 153725525.4541905,\n",
       " 141398326.4151898,\n",
       " 130198157.66578193,\n",
       " 120021978.83268836,\n",
       " 110776170.15769649,\n",
       " 102375671.20431025,\n",
       " 94743198.3093904,\n",
       " 87808533.58040884,\n",
       " 81507878.89715782,\n",
       " 75783268.9747859,\n",
       " 70582038.0883956,\n",
       " 65856335.55311167,\n",
       " 61562685.50209051,\n",
       " 57661586.91245578,\n",
       " 54117150.19944447,\n",
       " 50896767.03545632,\n",
       " 47970810.35637555,\n",
       " 45312361.795247555,\n",
       " 42896964.03572538,\n",
       " 40702395.80696067,\n",
       " 38708467.44991197,\n",
       " 36896835.1742986,\n",
       " 35250832.29738114,\n",
       " 33755315.91198065,\n",
       " 32396527.57309469,\n",
       " 31161966.72144265,\n",
       " 30040275.6794449,\n",
       " 29021135.161611117,\n",
       " 28095169.338043213,\n",
       " 27253859.577643525,\n",
       " 26489466.077475697,\n",
       " 25794956.657274343,\n",
       " 25163942.06401939,\n",
       " 24590617.19138348,\n",
       " 24069707.673276097,\n",
       " 23596421.360150345,\n",
       " 23166404.23165849,\n",
       " 22775700.340056546,\n",
       " 22420715.415841118,\n",
       " 22098183.800793372,\n",
       " 21805138.404217627,\n",
       " 21538883.405973636,\n",
       " 21296969.455174237,\n",
       " 21077171.136377502,\n",
       " 20877466.495964967,\n",
       " 20696018.4403503,\n",
       " 20531157.83488389,\n",
       " 20381368.147963844,\n",
       " 20245271.499082275,\n",
       " 20121615.98244822,\n",
       " 20009264.149567284,\n",
       " 19907182.544817757,\n",
       " 19814432.197751947,\n",
       " 19730159.98465257,\n",
       " 19653590.779871367,\n",
       " 19584020.32474283,\n",
       " 19520808.748467892,\n",
       " 19463374.681360237,\n",
       " 19411189.906297494,\n",
       " 19363774.499171037,\n",
       " 19320692.413627766,\n",
       " 19281547.46948265,\n",
       " 19245979.70789665,\n",
       " 19213662.079787903,\n",
       " 19184297.43700968,\n",
       " 19157615.798613954,\n",
       " 19133371.867051266,\n",
       " 19111342.77145494,\n",
       " 19091326.017249756,\n",
       " 19073137.623219393,\n",
       " 19056610.42889639,\n",
       " 19041592.55670055,\n",
       " 19027946.01467906,\n",
       " 19015545.426992748,\n",
       " 19004276.880469866,\n",
       " 18994036.876614906,\n",
       " 18984731.37943203,\n",
       " 18976274.950302217,\n",
       " 18968589.96195572,\n",
       " 18961605.884308062,\n",
       " 18955258.635589674,\n",
       " 18949489.992799476,\n",
       " 18944247.05605842,\n",
       " 18939481.761935294,\n",
       " 18935150.441267617,\n",
       " 18931213.417409174,\n",
       " 18927634.641208418,\n",
       " 18924381.359359823,\n",
       " 18921423.81307582,\n",
       " 18918734.964309327,\n",
       " 18916290.247005653,\n",
       " 18914067.34109705,\n",
       " 18912045.967160445,\n",
       " 18910207.699848287,\n",
       " 18908535.79837691,\n",
       " 18907015.05251313,\n",
       " 18905631.642641276,\n",
       " 18904373.012624018,\n",
       " 18903227.754287083,\n",
       " 18902185.502464935,\n",
       " 18901236.83964222,\n",
       " 18900373.209313724,\n",
       " 18899586.837265037,\n",
       " 18898870.660050392,\n",
       " 18898218.260009963,\n",
       " 18897623.806227576,\n",
       " 18897082.00088713,\n",
       " 18896588.030532833,\n",
       " 18896137.5217864,\n",
       " 18895726.501111597,\n",
       " 18895351.35825873,\n",
       " 18895008.81305015,\n",
       " 18894695.885203607,\n",
       " 18894409.86691295,\n",
       " 18894148.297937557,\n",
       " 18893908.942967616,\n",
       " 18893689.771059785,\n",
       " 18893488.93695277,\n",
       " 18893304.76409077,\n",
       " 18893135.72919967,\n",
       " 18892980.448272787,\n",
       " 18892837.663838383,\n",
       " 18892706.233390827,\n",
       " 18892585.11887961,\n",
       " 18892473.377159573,\n",
       " 18892370.151314117,\n",
       " 18892274.662771262,\n",
       " 18892186.204141106,\n",
       " 18892104.132708084,\n",
       " 18892027.86451762,\n",
       " 18891956.86900418,\n",
       " 18891890.66410984,\n",
       " 18891828.811849542,\n",
       " 18891770.914281745,\n",
       " 18891716.60984722,\n",
       " 18891665.570042737,\n",
       " 18891617.496399023,\n",
       " 18891572.11773488,\n",
       " 18891529.187661987,\n",
       " 18891488.482318766,\n",
       " 18891449.79831026,\n",
       " 18891412.950837173,\n",
       " 18891377.77199597,\n",
       " 18891344.10923375,\n",
       " 18891311.823945023,\n",
       " 18891280.790196635,\n",
       " 18891250.89356882,\n",
       " 18891222.030103046,\n",
       " 18891194.105345093,\n",
       " 18891167.033476572,\n",
       " 18891140.736525014,\n",
       " 18891115.143646814,\n",
       " 18891090.190475214,\n",
       " 18891065.818528533,\n",
       " 18891041.974671476,\n",
       " 18891018.610627044,\n",
       " 18890995.68253183]"
      ]
     },
     "execution_count": 163,
     "metadata": {},
     "output_type": "execute_result"
    }
   ],
   "source": [
    "J_history"
   ]
  },
  {
   "cell_type": "code",
   "execution_count": 167,
   "id": "c8fb1001-1fe2-46c7-9ac7-ee99583b4f8a",
   "metadata": {},
   "outputs": [
    {
     "data": {
      "image/png": "[encoded data removed]",
      "text/plain": [
       "<Figure size 640x480 with 1 Axes>"
      ]
     },
     "metadata": {},
     "output_type": "display_data"
    }
   ],
   "source": [
    "plt.plot(J_history)\n",
    "plt.title(\"Loss evolution\")\n",
    "plt.xlabel(\"Iteration\")\n",
    "plt.ylabel(\"Cost\")\n",
    "plt.show()"
   ]
  },
  {
   "cell_type": "code",
   "execution_count": 204,
   "id": "aaca94cb-f7c6-4454-951d-b6cf8a59ba55",
   "metadata": {},
   "outputs": [],
   "source": [
    "def r2_score(y, y_):\n",
    "    num = np.sum((y - y_)**2)\n",
    "    num2 = np.sum((y - y.mean())**2)\n",
    "    return (1 - num / num2) # score"
   ]
  },
  {
   "cell_type": "code",
   "execution_count": 196,
   "id": "08e2df51-8fc8-43f8-a9e4-7027844ed39e",
   "metadata": {},
   "outputs": [
    {
     "data": {
      "text/plain": [
       "[59372.58709555319,\n",
       " 98934.45880873495,\n",
       " 118715.39466532583,\n",
       " 158277.26637850757,\n",
       " 197839.13809168935]"
      ]
     },
     "execution_count": 196,
     "metadata": {},
     "output_type": "execute_result"
    }
   ],
   "source": [
    "y_ = [w_final * i + b_final for i in x_train]\n",
    "y_"
   ]
  },
  {
   "cell_type": "code",
   "execution_count": 206,
   "id": "22995a30-42a9-47d4-ac2f-a87924c6da8f",
   "metadata": {},
   "outputs": [
    {
     "data": {
      "text/plain": [
       "0.9808795590257775"
      ]
     },
     "execution_count": 206,
     "metadata": {},
     "output_type": "execute_result"
    }
   ],
   "source": [
    "r2_score(y_train, y_)"
   ]
  },
  {
   "cell_type": "markdown",
   "id": "0e25febb-2421-4362-8fc9-b2f25b4daad7",
   "metadata": {},
   "source": [
    "### Prediction"
   ]
  },
  {
   "cell_type": "code",
   "execution_count": 180,
   "id": "96e09268-f037-4e31-8366-42b4fd50f6a6",
   "metadata": {},
   "outputs": [],
   "source": [
    "x_train = np.array([30, 50, 60, 80, 100])\n",
    "y_train = np.array([70000, 100000, 120000, 150000, 200000])"
   ]
  },
  {
   "cell_type": "code",
   "execution_count": 190,
   "id": "f97038aa-adec-47ab-8e87-91a5d70d0db2",
   "metadata": {},
   "outputs": [
    {
     "name": "stdout",
     "output_type": "stream",
     "text": [
      "98934.45880873495$\n"
     ]
    }
   ],
   "source": [
    "size_of_house = 50 \n",
    "print(f\"{w_final * size_of_house + b_final}$\")"
   ]
  },
  {
   "cell_type": "code",
   "execution_count": 192,
   "id": "6763bfad-7e83-4b4d-aa83-8e5b82509299",
   "metadata": {},
   "outputs": [
    {
     "data": {
      "text/plain": [
       "[<matplotlib.lines.Line2D at 0x1f923fef020>]"
      ]
     },
     "execution_count": 192,
     "metadata": {},
     "output_type": "execute_result"
    },
    {
     "data": {
      "image/png": "[encoded data removed]",
      "text/plain": [
       "<Figure size 640x480 with 1 Axes>"
      ]
     },
     "metadata": {},
     "output_type": "display_data"
    }
   ],
   "source": [
    "plt.scatter(x_train, y_train)\n",
    "plt.plot(x_train, w_final * x_train + b_final)"
   ]
  }
 ],
 "metadata": {
  "kernelspec": {
   "display_name": "Python 3 (ipykernel)",
   "language": "python",
   "name": "python3"
  },
  "language_info": {
   "codemirror_mode": {
    "name": "ipython",
    "version": 3
   },
   "file_extension": ".py",
   "mimetype": "text/x-python",
   "name": "python",
   "nbconvert_exporter": "python",
   "pygments_lexer": "ipython3",
   "version": "3.12.7"
  }
 },
 "nbformat": 4,
 "nbformat_minor": 5
}
